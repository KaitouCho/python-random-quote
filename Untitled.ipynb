{
  "nbformat": 4,
  "nbformat_minor": 0,
  "metadata": {
    "colab": {
      "name": "Untitled",
      "provenance": [],
      "authorship_tag": "ABX9TyOIqq3PGfSyeWm9cy7TDeKC",
      "include_colab_link": true
    },
    "kernelspec": {
      "name": "python3",
      "display_name": "Python 3"
    },
    "language_info": {
      "name": "python"
    }
  },
  "cells": [
    {
      "cell_type": "markdown",
      "metadata": {
        "id": "view-in-github",
        "colab_type": "text"
      },
      "source": [
        "<a href=\"https://colab.research.google.com/github/KaitouCho/python-random-quote/blob/master/Untitled.ipynb\" target=\"_parent\"><img src=\"https://colab.research.google.com/assets/colab-badge.svg\" alt=\"Open In Colab\"/></a>"
      ]
    },
    {
      "cell_type": "code",
      "metadata": {
        "colab": {
          "base_uri": "https://localhost:8080/"
        },
        "id": "NjQTrH78sTCX",
        "outputId": "4edf392f-2039-4251-fb18-00f341bb8aa1"
      },
      "source": [
        "#!/usr/bin/python3\n",
        "  \n",
        "i = int(input('净利润:'))\n",
        "arr = [1000000,600000,400000,200000,100000,0]\n",
        "rat = [0.01,0.015,0.03,0.05,0.075,0.1]\n",
        "r = 0\n",
        "for idx in range(0,6):\n",
        "     if i>arr[idx]:\n",
        "         r+=(i-arr[idx])*rat[idx]\n",
        "         print ((i-arr[idx])*rat[idx])\n",
        "         i=arr[idx]\n",
        "print (r)"
      ],
      "execution_count": 2,
      "outputs": [
        {
          "output_type": "stream",
          "text": [
            "净利润:200\n",
            "20.0\n",
            "20.0\n"
          ],
          "name": "stdout"
        }
      ]
    }
  ]
}